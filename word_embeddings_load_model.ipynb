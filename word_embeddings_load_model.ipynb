{
 "cells": [
  {
   "cell_type": "code",
   "execution_count": 8,
   "metadata": {},
   "outputs": [],
   "source": [
    "import pandas as pd\n",
    "import gensim\n",
    "from sklearn.manifold import MDS\n",
    "from sklearn.manifold import TSNE \n",
    "import numpy as np\n",
    "import matplotlib.pylab as plt\n",
    "import seaborn as sns"
   ]
  },
  {
   "cell_type": "code",
   "execution_count": 9,
   "metadata": {},
   "outputs": [],
   "source": [
    "def top_n_similar_words(model_, word, n_top):\n",
    "    data = model_.wv.most_similar(positive=[word], negative=[], topn=n_top)\n",
    "    df = pd.DataFrame(data, columns=['word', 'similarity'])\n",
    "    df['target_word'] = word\n",
    "    return df[['target_word', 'word', 'similarity']]\n"
   ]
  },
  {
   "cell_type": "code",
   "execution_count": 10,
   "metadata": {},
   "outputs": [],
   "source": [
    "# Reduccion de la dimensionalidad y visualizacion \n",
    "def visualize_embeddings(distancias,palabras,colores,perplexity):\n",
    "    plt.figure(figsize=(20,10))\n",
    "    # Reduccion de la dimensionalidad y visualizacion \n",
    "    mds = MDS(n_components=2, max_iter=3000, eps=1e-9, random_state=123,\n",
    "                       dissimilarity=\"precomputed\", n_jobs=1)\n",
    "    Y = mds.fit(distancias).embedding_\n",
    "    plt.subplot(1,2,1)\n",
    "    plt.scatter(Y[:, 0], Y[:, 1],color=\"black\",s=3)\n",
    "    for label, x, y, color in zip(palabras, Y[:, 0], Y[:, 1],colores):\n",
    "        plt.annotate(label, xy=(x, y), xytext=(0, 0),color=color, textcoords='offset points',size=13)\n",
    "    plt.title(\"MDS\")\n",
    "    # Reduccion de la dimensionalidad y visualizacion \n",
    "    tsne = TSNE(n_components=2,metric=\"precomputed\",learning_rate=1000, random_state=123,perplexity=perplexity)\n",
    "    np.set_printoptions(suppress=True)\n",
    "    plt.subplot(1,2,2)\n",
    "    Y = tsne.fit_transform(distancias)\n",
    "    plt.scatter(Y[:, 0], Y[:, 1],color=\"black\",s=3)\n",
    "    for label, x, y, color in zip(palabras, Y[:, 0], Y[:, 1],colores):\n",
    "        plt.annotate(label, xy=(x, y), xytext=(0, 0),color=color, textcoords='offset points',size=13)\n",
    "    plt.title(\"TSNE\")"
   ]
  },
  {
   "cell_type": "code",
   "execution_count": 11,
   "metadata": {},
   "outputs": [],
   "source": [
    "def visualizacion_grupos_palabras(model_, lista_de_grupos):\n",
    "    colors = ['blue','green','red','cyan','magenta','yellow','black','white']\n",
    "    colors_list = []\n",
    "    for i in range(len(lista_de_grupos)):\n",
    "        colors_list.append([colors[i]]*len(lista_de_grupos[i]))\n",
    "    colors_list = [item for sublist in colors_list for item in sublist]\n",
    "\n",
    "    \n",
    "    palabras = [item for sublist in lista_de_grupos for item in sublist]\n",
    "\n",
    "    # Armo una matriz de distancias\n",
    "    distancias=np.zeros((len(palabras),len(palabras))) #matriz cuadrada\n",
    "    for i,ti in enumerate(palabras):\n",
    "        for j,tj in enumerate(palabras):\n",
    "            distancias[i,j] = abs(1-model_.wv.similarity(ti,tj))\n",
    "\n",
    "    visualize_embeddings(distancias,palabras,colors_list,perplexity=4)"
   ]
  },
  {
   "cell_type": "code",
   "execution_count": 17,
   "metadata": {},
   "outputs": [],
   "source": [
    "def distancia_entre_palabras(model_, palabra_a, palabra_b):\n",
    "    print (f\"{palabra_a}-{palabra_b} similarity:\",model_.wv.n_similarity([palabra_a], [palabra_b]))"
   ]
  },
  {
   "cell_type": "code",
   "execution_count": 13,
   "metadata": {},
   "outputs": [],
   "source": [
    "model_path = \"models/model_spanish_Áreas naturales.model\""
   ]
  },
  {
   "cell_type": "code",
   "execution_count": 14,
   "metadata": {},
   "outputs": [],
   "source": [
    "# Load pre-trained Word2Vec model.\n",
    "model = gensim.models.Word2Vec.load(model_path)"
   ]
  },
  {
   "cell_type": "code",
   "execution_count": 15,
   "metadata": {},
   "outputs": [
    {
     "data": {
      "text/html": [
       "<div>\n",
       "<style scoped>\n",
       "    .dataframe tbody tr th:only-of-type {\n",
       "        vertical-align: middle;\n",
       "    }\n",
       "\n",
       "    .dataframe tbody tr th {\n",
       "        vertical-align: top;\n",
       "    }\n",
       "\n",
       "    .dataframe thead th {\n",
       "        text-align: right;\n",
       "    }\n",
       "</style>\n",
       "<table border=\"1\" class=\"dataframe\">\n",
       "  <thead>\n",
       "    <tr style=\"text-align: right;\">\n",
       "      <th></th>\n",
       "      <th>target_word</th>\n",
       "      <th>word</th>\n",
       "      <th>similarity</th>\n",
       "    </tr>\n",
       "  </thead>\n",
       "  <tbody>\n",
       "    <tr>\n",
       "      <th>0</th>\n",
       "      <td>perito_moreno</td>\n",
       "      <td>glaciar</td>\n",
       "      <td>0.933931</td>\n",
       "    </tr>\n",
       "    <tr>\n",
       "      <th>1</th>\n",
       "      <td>perito_moreno</td>\n",
       "      <td>perito</td>\n",
       "      <td>0.924343</td>\n",
       "    </tr>\n",
       "    <tr>\n",
       "      <th>2</th>\n",
       "      <td>perito_moreno</td>\n",
       "      <td>glacial</td>\n",
       "      <td>0.876382</td>\n",
       "    </tr>\n",
       "    <tr>\n",
       "      <th>3</th>\n",
       "      <td>perito_moreno</td>\n",
       "      <td>lacustrar</td>\n",
       "      <td>0.870636</td>\n",
       "    </tr>\n",
       "    <tr>\n",
       "      <th>4</th>\n",
       "      <td>perito_moreno</td>\n",
       "      <td>excursión_lacustr</td>\n",
       "      <td>0.856324</td>\n",
       "    </tr>\n",
       "  </tbody>\n",
       "</table>\n",
       "</div>"
      ],
      "text/plain": [
       "     target_word               word  similarity\n",
       "0  perito_moreno            glaciar    0.933931\n",
       "1  perito_moreno             perito    0.924343\n",
       "2  perito_moreno            glacial    0.876382\n",
       "3  perito_moreno          lacustrar    0.870636\n",
       "4  perito_moreno  excursión_lacustr    0.856324"
      ]
     },
     "execution_count": 15,
     "metadata": {},
     "output_type": "execute_result"
    }
   ],
   "source": [
    "top_n_similar_words(model, 'perito_moreno', 5)"
   ]
  },
  {
   "cell_type": "code",
   "execution_count": 18,
   "metadata": {},
   "outputs": [
    {
     "name": "stdout",
     "output_type": "stream",
     "text": [
      "glaciar-lindo similarity: 0.40154365\n"
     ]
    }
   ],
   "source": [
    "distancia_entre_palabras(model,\"glaciar\", \"lindo\")"
   ]
  },
  {
   "cell_type": "code",
   "execution_count": 19,
   "metadata": {},
   "outputs": [],
   "source": [
    "grupos = [[\"lindo\",\"feo\",\"maravilloso\",\"increible\",\"horrible\"]\n",
    ",[\"caro\",\"barato\",\"precio\",\"costoso\"]\n",
    ",[\"perito_moreno\",\"glaciar\",\"pasarela\",\"barco\"]]\n",
    "\n"
   ]
  },
  {
   "cell_type": "code",
   "execution_count": 20,
   "metadata": {},
   "outputs": [
    {
     "name": "stderr",
     "output_type": "stream",
     "text": [
      "/home/vscode/.local/lib/python3.6/site-packages/sklearn/manifold/_t_sne.py:699: FutureWarning: 'square_distances' has been introduced in 0.24 to help phase out legacy squaring behavior. The 'legacy' setting will be removed in 1.1 (renaming of 0.26), and the default setting will be changed to True. In 1.3, 'square_distances' will be removed altogether, and distances will be squared by default. Set 'square_distances'=True to silence this warning.\n",
      "  FutureWarning\n"
     ]
    },
    {
     "data": {
      "image/png": "[encoded data removed]",
      "text/plain": [
       "<Figure size 1440x720 with 2 Axes>"
      ]
     },
     "metadata": {
      "needs_background": "light"
     },
     "output_type": "display_data"
    }
   ],
   "source": [
    "visualizacion_grupos_palabras(model, grupos)"
   ]
  },
  {
   "cell_type": "code",
   "execution_count": null,
   "metadata": {},
   "outputs": [],
   "source": []
  }
 ],
 "metadata": {
  "kernelspec": {
   "display_name": "Python 3.6.15 64-bit",
   "language": "python",
   "name": "python3"
  },
  "language_info": {
   "codemirror_mode": {
    "name": "ipython",
    "version": 3
   },
   "file_extension": ".py",
   "mimetype": "text/x-python",
   "name": "python",
   "nbconvert_exporter": "python",
   "pygments_lexer": "ipython3",
   "version": "3.6.15"
  },
  "orig_nbformat": 4,
  "vscode": {
   "interpreter": {
    "hash": "949777d72b0d2535278d3dc13498b2535136f6dfe0678499012e853ee9abcab1"
   }
  }
 },
 "nbformat": 4,
 "nbformat_minor": 2
}
