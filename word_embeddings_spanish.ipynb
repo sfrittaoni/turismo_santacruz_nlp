{
  "cells": [
    {
      "cell_type": "code",
      "execution_count": 95,
      "metadata": {
        "colab": {
          "base_uri": "https://localhost:8080/"
        },
        "id": "R2UljDWum97h",
        "outputId": "d7818081-5373-42a3-ad8c-af626b19311f"
      },
      "outputs": [
        {
          "name": "stdout",
          "output_type": "stream",
          "text": [
            "The autoreload extension is already loaded. To reload it, use:\n",
            "  %reload_ext autoreload\n"
          ]
        },
        {
          "name": "stderr",
          "output_type": "stream",
          "text": [
            "[nltk_data] Downloading package punkt to /home/vscode/nltk_data...\n",
            "[nltk_data]   Package punkt is already up-to-date!\n",
            "[nltk_data] Downloading package stopwords to /home/vscode/nltk_data...\n",
            "[nltk_data]   Package stopwords is already up-to-date!\n"
          ]
        }
      ],
      "source": [
        "%matplotlib inline \n",
        "%load_ext autoreload\n",
        "%autoreload 2\n",
        "from collections import defaultdict\n",
        "import re\n",
        "import os\n",
        "import matplotlib.pyplot as plt\n",
        "import numpy as np\n",
        "import pandas as pd   \n",
        "from gensim import corpora, models, similarities, matutils\n",
        "from gensim.models.word2vec import Word2Vec\n",
        "from gensim.models import KeyedVectors\n",
        "from gensim.matutils import cossim\n",
        "from gensim.models.phrases import Phrases, Phraser\n",
        "from nltk.corpus import stopwords\n",
        "from nltk import word_tokenize, sent_tokenize\n",
        "import nltk\n",
        "nltk.download('punkt')\n",
        "nltk.download('stopwords')\n",
        "import pickle\n",
        "import random\n",
        "import sys\n",
        "from tqdm import tqdm\n",
        "from sklearn import manifold\n"
      ]
    },
    {
      "cell_type": "markdown",
      "metadata": {
        "id": "63h_9SPfm97m"
      },
      "source": [
        "## Word2vec Embeddings\n"
      ]
    },
    {
      "cell_type": "code",
      "execution_count": 96,
      "metadata": {},
      "outputs": [],
      "source": [
        "lang = 'spanish'"
      ]
    },
    {
      "cell_type": "code",
      "execution_count": 97,
      "metadata": {
        "colab": {
          "base_uri": "https://localhost:8080/"
        },
        "id": "qRzcpwBMif_y",
        "outputId": "c35830f0-65f9-4d2e-b24e-f1a38cc9b9cd"
      },
      "outputs": [],
      "source": [
        "#cargo bases \n",
        "df_train = pd.read_csv(f'data/{lang}_data.csv')\n",
        "\n",
        "trainset = (df_train.text_norm.str.split(' ')).to_list()"
      ]
    },
    {
      "cell_type": "code",
      "execution_count": 98,
      "metadata": {
        "id": "StXZH1zWPzuq"
      },
      "outputs": [],
      "source": [
        "collocations = Phrases(sentences=trainset, min_count=10,threshold=0.5,scoring='npmi') # threshold: minimo score aceptado\n",
        "to_collocations = Phraser(collocations)\n",
        "df_collocations =pd.DataFrame([x for x in collocations.export_phrases(trainset)],columns=[\"bigram\",\"score\"])\n",
        "\n",
        "df_collocations.drop_duplicates().sort_values(by=\"score\",ascending=False).to_csv(f'data/bigramas/bigramas_{lang}.csv', index = False)\n"
      ]
    },
    {
      "cell_type": "code",
      "execution_count": 115,
      "metadata": {},
      "outputs": [
        {
          "data": {
            "text/html": [
              "<div>\n",
              "<style scoped>\n",
              "    .dataframe tbody tr th:only-of-type {\n",
              "        vertical-align: middle;\n",
              "    }\n",
              "\n",
              "    .dataframe tbody tr th {\n",
              "        vertical-align: top;\n",
              "    }\n",
              "\n",
              "    .dataframe thead th {\n",
              "        text-align: right;\n",
              "    }\n",
              "</style>\n",
              "<table border=\"1\" class=\"dataframe\">\n",
              "  <thead>\n",
              "    <tr style=\"text-align: right;\">\n",
              "      <th></th>\n",
              "      <th>bigram</th>\n",
              "      <th>score</th>\n",
              "    </tr>\n",
              "  </thead>\n",
              "  <tbody>\n",
              "    <tr>\n",
              "      <th>0</th>\n",
              "      <td>b'cabo virg\\xc3\\xa9n'</td>\n",
              "      <td>0.886405</td>\n",
              "    </tr>\n",
              "    <tr>\n",
              "      <th>1</th>\n",
              "      <td>b'num km'</td>\n",
              "      <td>0.601080</td>\n",
              "    </tr>\n",
              "    <tr>\n",
              "      <th>2</th>\n",
              "      <td>b'num hs'</td>\n",
              "      <td>0.563349</td>\n",
              "    </tr>\n",
              "    <tr>\n",
              "      <th>3</th>\n",
              "      <td>b'vista panoramico'</td>\n",
              "      <td>0.511897</td>\n",
              "    </tr>\n",
              "    <tr>\n",
              "      <th>4</th>\n",
              "      <td>b'estrecho magall\\xc3\\xa1n'</td>\n",
              "      <td>0.797340</td>\n",
              "    </tr>\n",
              "    <tr>\n",
              "      <th>5</th>\n",
              "      <td>b'tierra fuego'</td>\n",
              "      <td>0.619994</td>\n",
              "    </tr>\n",
              "    <tr>\n",
              "      <th>6</th>\n",
              "      <td>b'valer pena'</td>\n",
              "      <td>0.931546</td>\n",
              "    </tr>\n",
              "    <tr>\n",
              "      <th>7</th>\n",
              "      <td>b'camino ripio'</td>\n",
              "      <td>0.504226</td>\n",
              "    </tr>\n",
              "    <tr>\n",
              "      <th>8</th>\n",
              "      <td>b'fauna autoctona'</td>\n",
              "      <td>0.605067</td>\n",
              "    </tr>\n",
              "    <tr>\n",
              "      <th>10</th>\n",
              "      <td>b'tocar dia'</td>\n",
              "      <td>0.562687</td>\n",
              "    </tr>\n",
              "    <tr>\n",
              "      <th>11</th>\n",
              "      <td>b'tener suerte'</td>\n",
              "      <td>0.556659</td>\n",
              "    </tr>\n",
              "    <tr>\n",
              "      <th>14</th>\n",
              "      <td>b'rio gallego'</td>\n",
              "      <td>0.739022</td>\n",
              "    </tr>\n",
              "    <tr>\n",
              "      <th>15</th>\n",
              "      <td>b'bien senalizado'</td>\n",
              "      <td>0.600118</td>\n",
              "    </tr>\n",
              "    <tr>\n",
              "      <th>21</th>\n",
              "      <td>b'colonia pinguino'</td>\n",
              "      <td>0.735557</td>\n",
              "    </tr>\n",
              "    <tr>\n",
              "      <th>28</th>\n",
              "      <td>b'tan solo'</td>\n",
              "      <td>0.545141</td>\n",
              "    </tr>\n",
              "  </tbody>\n",
              "</table>\n",
              "</div>"
            ],
            "text/plain": [
              "                         bigram     score\n",
              "0         b'cabo virg\\xc3\\xa9n'  0.886405\n",
              "1                     b'num km'  0.601080\n",
              "2                     b'num hs'  0.563349\n",
              "3           b'vista panoramico'  0.511897\n",
              "4   b'estrecho magall\\xc3\\xa1n'  0.797340\n",
              "5               b'tierra fuego'  0.619994\n",
              "6                 b'valer pena'  0.931546\n",
              "7               b'camino ripio'  0.504226\n",
              "8            b'fauna autoctona'  0.605067\n",
              "10                 b'tocar dia'  0.562687\n",
              "11              b'tener suerte'  0.556659\n",
              "14               b'rio gallego'  0.739022\n",
              "15           b'bien senalizado'  0.600118\n",
              "21          b'colonia pinguino'  0.735557\n",
              "28                  b'tan solo'  0.545141"
            ]
          },
          "execution_count": 115,
          "metadata": {},
          "output_type": "execute_result"
        }
      ],
      "source": [
        "df_collocations.drop_duplicates().head(15)"
      ]
    },
    {
      "cell_type": "code",
      "execution_count": 100,
      "metadata": {},
      "outputs": [],
      "source": [
        "trainset_ngrams = to_collocations[trainset]"
      ]
    },
    {
      "cell_type": "markdown",
      "metadata": {},
      "source": [
        "## Embeddings General"
      ]
    },
    {
      "cell_type": "code",
      "execution_count": 101,
      "metadata": {
        "id": "lvYifl8Rm977"
      },
      "outputs": [],
      "source": [
        "# \"window\" es el tamaño de la ventana. windows = 10, usa 10 palabras a la izquierda y 10 palabras a la derecha\n",
        "# \"n_dim\" es la dimension (i.e. el largo) de los vectores de word2vec\n",
        "# \"workers\" es el numero de cores que usa en paralelo. Para aprobechar eso es necesario tener instalado Cython)\n",
        "# \"sample\": word2vec filtra palabras que aparecen una fraccion mayor que \"sample\"\n",
        "# \"min_count\": Word2vec filtra palabras con menos apariciones que  \"min_count\"\n",
        "# \"sg\": para correr el Skipgram model (sg = 1), para correr el CBOW (sg = 0)\n",
        "# para mas detalle ver: https://radimrehurek.com/gensim/models/word2vec.html\n",
        "\n",
        "w2v_model = Word2Vec(trainset_ngrams, workers=4, size= 20, min_count = 10, window = 10, sample = 1e-3,negative=5,sg=1)\n"
      ]
    },
    {
      "cell_type": "code",
      "execution_count": 102,
      "metadata": {},
      "outputs": [],
      "source": [
        "w2v_model.save(f\"models/model_{lang}.model\")"
      ]
    },
    {
      "cell_type": "markdown",
      "metadata": {},
      "source": [
        "### Distancia entre palabras"
      ]
    },
    {
      "cell_type": "code",
      "execution_count": 103,
      "metadata": {},
      "outputs": [
        {
          "name": "stdout",
          "output_type": "stream",
          "text": [
            "glaciar-lindo similarity: 0.48911947\n"
          ]
        }
      ],
      "source": [
        "palabra_a = 'glaciar'\n",
        "palabra_b = 'lindo'\n",
        "print (f\"{palabra_a}-{palabra_b} similarity:\",w2v_model.wv.n_similarity([palabra_a], [palabra_b]))"
      ]
    },
    {
      "cell_type": "code",
      "execution_count": 104,
      "metadata": {},
      "outputs": [
        {
          "name": "stdout",
          "output_type": "stream",
          "text": [
            "glaciar-maravilloso similarity: 0.72877264\n"
          ]
        }
      ],
      "source": [
        "palabra_a = 'glaciar'\n",
        "palabra_b = 'maravilloso'\n",
        "print (f\"{palabra_a}-{palabra_b} similarity:\",w2v_model.wv.n_similarity([palabra_a], [palabra_b]))"
      ]
    },
    {
      "cell_type": "code",
      "execution_count": 105,
      "metadata": {},
      "outputs": [
        {
          "name": "stdout",
          "output_type": "stream",
          "text": [
            "ciudad-lindo similarity: 0.63765144\n"
          ]
        }
      ],
      "source": [
        "palabra_a = 'ciudad'\n",
        "palabra_b = 'lindo'\n",
        "print (f\"{palabra_a}-{palabra_b} similarity:\",w2v_model.wv.n_similarity([palabra_a], [palabra_b]))"
      ]
    },
    {
      "cell_type": "code",
      "execution_count": 106,
      "metadata": {},
      "outputs": [
        {
          "name": "stdout",
          "output_type": "stream",
          "text": [
            "ciudad-maravilloso similarity: 0.37581936\n"
          ]
        }
      ],
      "source": [
        "palabra_a = 'ciudad'\n",
        "palabra_b = 'maravilloso'\n",
        "print (f\"{palabra_a}-{palabra_b} similarity:\",w2v_model.wv.n_similarity([palabra_a], [palabra_b]))"
      ]
    },
    {
      "cell_type": "markdown",
      "metadata": {},
      "source": [
        "### Palabras mas cercanas"
      ]
    },
    {
      "cell_type": "code",
      "execution_count": 107,
      "metadata": {
        "colab": {
          "base_uri": "https://localhost:8080/"
        },
        "id": "csrUhYDJm98H",
        "outputId": "8ba75dbc-e178-4e70-c40e-db531ac6536f"
      },
      "outputs": [
        {
          "data": {
            "text/plain": [
              "[('ferry', 0.9050895571708679),\n",
              " ('perito_moreno', 0.8923228979110718),\n",
              " ('spegazzinni', 0.8890044689178467),\n",
              " ('glacial', 0.8823493719100952),\n",
              " ('upsalo', 0.8820880651473999),\n",
              " ('bote', 0.8798459768295288),\n",
              " ('glacia', 0.8763437867164612),\n",
              " ('perito', 0.8700858354568481),\n",
              " ('pared_sur', 0.8693194389343262),\n",
              " ('bahia_vaca', 0.8673712611198425),\n",
              " ('navegas', 0.8668725490570068),\n",
              " ('cara_sur', 0.865973174571991),\n",
              " ('upsala_spegazini', 0.8643110394477844),\n",
              " ('lacustrar', 0.8609740138053894),\n",
              " ('embarcado', 0.8583385944366455),\n",
              " ('uspala', 0.8573286533355713),\n",
              " ('spegazinni', 0.8556116819381714),\n",
              " ('navega', 0.8555272817611694),\n",
              " ('plataforma_observacion', 0.8551294207572937),\n",
              " ('upsalo_spegazzini', 0.8548568487167358),\n",
              " ('tempano_desprendido', 0.8547452688217163),\n",
              " ('conoz', 0.8526906967163086),\n",
              " ('treiking', 0.8503875732421875),\n",
              " ('mini_trecking', 0.8439195156097412),\n",
              " ('galciar', 0.8419381380081177)]"
            ]
          },
          "execution_count": 107,
          "metadata": {},
          "output_type": "execute_result"
        }
      ],
      "source": [
        "w2v_model.wv.most_similar(positive=[\"glaciar\"], negative=[], topn=25)"
      ]
    },
    {
      "cell_type": "code",
      "execution_count": 108,
      "metadata": {
        "colab": {
          "base_uri": "https://localhost:8080/"
        },
        "id": "BDQ_cmNUgELc",
        "outputId": "a730b9a5-037a-49c0-865a-89c2c0b7d8c4"
      },
      "outputs": [
        {
          "data": {
            "text/plain": [
              "[('protocolo_covid', 0.9280144572257996),\n",
              " ('espacioso', 0.8877415060997009),\n",
              " ('protocolo', 0.8782162070274353),\n",
              " ('funcionamiento', 0.8708296418190002),\n",
              " ('educacion', 0.866225004196167),\n",
              " ('limpia', 0.8646835088729858),\n",
              " ('jabon', 0.8631142377853394),\n",
              " ('cesto', 0.8624533414840698),\n",
              " ('correctamente', 0.8621362447738647),\n",
              " ('flojo', 0.8607876300811768),\n",
              " ('auxilio', 0.858424186706543),\n",
              " ('orden', 0.8568135499954224),\n",
              " ('kiosco', 0.8557132482528687),\n",
              " ('preferencial', 0.8552645444869995),\n",
              " ('instalacion', 0.8550048470497131),\n",
              " ('funcion', 0.8529326915740967),\n",
              " ('optima', 0.8520435094833374),\n",
              " ('norma', 0.8519998788833618),\n",
              " ('regla', 0.8517311811447144),\n",
              " ('acondicionado', 0.8516663312911987),\n",
              " ('tacho_basura', 0.8511453866958618),\n",
              " ('azar', 0.847692608833313),\n",
              " ('aseo', 0.8465911149978638),\n",
              " ('funcionar', 0.8447271585464478),\n",
              " ('lamentar', 0.8426222801208496)]"
            ]
          },
          "execution_count": 108,
          "metadata": {},
          "output_type": "execute_result"
        }
      ],
      "source": [
        "w2v_model.wv.most_similar(positive=[\"higiene\"], negative=[], topn=25)"
      ]
    },
    {
      "cell_type": "code",
      "execution_count": 109,
      "metadata": {
        "colab": {
          "base_uri": "https://localhost:8080/"
        },
        "id": "EwOtte4Rg3vR",
        "outputId": "a66912c7-5b19-4ea0-fa06-7df94cd2e34b"
      },
      "outputs": [
        {
          "data": {
            "text/plain": [
              "[('inigualable', 0.962688684463501),\n",
              " ('increible', 0.946367621421814),\n",
              " ('fantastico', 0.9352339506149292),\n",
              " ('extraordinario', 0.9344509840011597),\n",
              " ('magnifico', 0.9318202137947083),\n",
              " ('incomparable', 0.9279364347457886),\n",
              " ('imperdible', 0.9267515540122986),\n",
              " ('espectacular', 0.9233748912811279),\n",
              " ('impactante', 0.9203120470046997),\n",
              " ('unico', 0.9184026718139648),\n",
              " ('experiencia_inolvidable', 0.9159607887268066),\n",
              " ('incomparabl', 0.915610134601593),\n",
              " ('indescriptible', 0.9150490760803223),\n",
              " ('deslumbrante', 0.9133846759796143),\n",
              " ('imponente', 0.9130913019180298),\n",
              " ('inolvidable', 0.9090592265129089),\n",
              " ('insuperable', 0.9032772779464722),\n",
              " ('desperdicio', 0.9027493000030518),\n",
              " ('inexplicable', 0.9010753035545349),\n",
              " ('asombroso', 0.900688648223877),\n",
              " ('must', 0.8997969031333923),\n",
              " ('sensacional', 0.8984346985816956),\n",
              " ('imborrable', 0.8982502222061157),\n",
              " ('maravilla', 0.896538496017456),\n",
              " ('indescriptibl', 0.895869255065918)]"
            ]
          },
          "execution_count": 109,
          "metadata": {},
          "output_type": "execute_result"
        }
      ],
      "source": [
        "w2v_model.wv.most_similar(positive=['maravilloso'], negative=[], topn=25)"
      ]
    },
    {
      "cell_type": "markdown",
      "metadata": {},
      "source": [
        "### Visualizacion distancia entre grupos de palabras"
      ]
    },
    {
      "cell_type": "code",
      "execution_count": 110,
      "metadata": {
        "id": "nTKkJhmvm98Q"
      },
      "outputs": [],
      "source": [
        "adjtetivos = [\"lindo\",\"feo\",\"maravilloso\",\"increible\",\"horrible\"]\n",
        "adjtetivos_2 = [\"caro\",\"barato\",\"precio\",\"costoso\"]\n",
        "glaciar = [\"perito_moreno\",\"glaciar\",\"pasarela\",\"barco\"]\n",
        "ciudad = [\"ciudad\",\"bar\",\"museo\",\"informacion\",\"guia\"]\n",
        "\n",
        "palabras = adjtetivos + adjtetivos_2 + glaciar + ciudad \n",
        "colores = [\"black\"]*len(adjtetivos)+[\"blue\"]*len(adjtetivos_2)+[\"green\"]*len(glaciar)+[\"red\"]*len(ciudad) "
      ]
    },
    {
      "cell_type": "code",
      "execution_count": 111,
      "metadata": {
        "colab": {
          "base_uri": "https://localhost:8080/"
        },
        "id": "43lS8JmWm98W",
        "outputId": "78f97003-012f-4bda-b9f8-dfd8f58a2fec"
      },
      "outputs": [],
      "source": [
        "# Armo una matriz de distancias\n",
        "distancias=np.zeros((len(palabras),len(palabras))) #matriz cuadrada\n",
        "for i,ti in enumerate(palabras):\n",
        "    for j,tj in enumerate(palabras):\n",
        "        distancias[i,j] = abs(1-w2v_model.wv.similarity(ti,tj))\n",
        "\n",
        "#distancias"
      ]
    },
    {
      "cell_type": "code",
      "execution_count": 112,
      "metadata": {
        "id": "RbQSOA0Ym98Y"
      },
      "outputs": [],
      "source": [
        "# Reduccion de la dimensionalidad y visualizacion \n",
        "from sklearn.manifold import MDS\n",
        "from sklearn.manifold import TSNE \n",
        "def visualize_embeddings(distancias,palabras,colores,perplexity):\n",
        "    plt.figure(figsize=(20,10))\n",
        "    # Reduccion de la dimensionalidad y visualizacion \n",
        "    mds = MDS(n_components=2, max_iter=3000, eps=1e-9, random_state=123,\n",
        "                       dissimilarity=\"precomputed\", n_jobs=1)\n",
        "    Y = mds.fit(distancias).embedding_\n",
        "    plt.subplot(1,2,1)\n",
        "    plt.scatter(Y[:, 0], Y[:, 1],color=\"black\",s=3)\n",
        "    for label, x, y, color in zip(palabras, Y[:, 0], Y[:, 1],colores):\n",
        "        plt.annotate(label, xy=(x, y), xytext=(0, 0),color=color, textcoords='offset points',size=13)\n",
        "    plt.title(\"MDS\")\n",
        "    # Reduccion de la dimensionalidad y visualizacion \n",
        "    tsne = TSNE(n_components=2,metric=\"precomputed\",learning_rate=1000, random_state=123,perplexity=perplexity)\n",
        "    np.set_printoptions(suppress=True)\n",
        "    plt.subplot(1,2,2)\n",
        "    Y = tsne.fit_transform(distancias)\n",
        "    plt.scatter(Y[:, 0], Y[:, 1],color=\"black\",s=3)\n",
        "    for label, x, y, color in zip(palabras, Y[:, 0], Y[:, 1],colores):\n",
        "        plt.annotate(label, xy=(x, y), xytext=(0, 0),color=color, textcoords='offset points',size=13)\n",
        "    plt.title(\"TSNE\")"
      ]
    },
    {
      "cell_type": "code",
      "execution_count": 113,
      "metadata": {
        "colab": {
          "base_uri": "https://localhost:8080/",
          "height": 696
        },
        "id": "Eq_Cgblxm98b",
        "outputId": "e9d0620b-4da3-422a-b439-66a6d0992cb0"
      },
      "outputs": [
        {
          "name": "stderr",
          "output_type": "stream",
          "text": [
            "/home/vscode/.local/lib/python3.6/site-packages/sklearn/manifold/_t_sne.py:699: FutureWarning: 'square_distances' has been introduced in 0.24 to help phase out legacy squaring behavior. The 'legacy' setting will be removed in 1.1 (renaming of 0.26), and the default setting will be changed to True. In 1.3, 'square_distances' will be removed altogether, and distances will be squared by default. Set 'square_distances'=True to silence this warning.\n",
            "  FutureWarning\n"
          ]
        },
        {
          "data": {
            "image/png": "[encoded data removed]",
            "text/plain": [
              "<Figure size 1440x720 with 2 Axes>"
            ]
          },
          "metadata": {
            "needs_background": "light"
          },
          "output_type": "display_data"
        }
      ],
      "source": [
        "visualize_embeddings(distancias,palabras,colores,perplexity=4)"
      ]
    },
    {
      "cell_type": "markdown",
      "metadata": {},
      "source": [
        "## Embeddings por categoria"
      ]
    },
    {
      "cell_type": "code",
      "execution_count": 114,
      "metadata": {},
      "outputs": [],
      "source": [
        "for cat in list(set(df_train.categoria_souldata)):\n",
        "\n",
        "    trainset = (df_train.loc[df_train.categoria_souldata == cat].text_norm.str.split(' ')).to_list()\n",
        "    collocations = Phrases(sentences=trainset, min_count=10,threshold=0.5,scoring='npmi') # threshold: minimo score aceptado\n",
        "    to_collocations = Phraser(collocations)\n",
        "    df_collocations =pd.DataFrame([x for x in collocations.export_phrases(trainset)],columns=[\"bigram\",\"score\"])\n",
        "\n",
        "    df_collocations.drop_duplicates().sort_values(by=\"score\",ascending=False).to_csv(f'data/bigramas/bigramas_{lang}_{cat}.csv', index = False)\n",
        "    \n",
        "    trainset_ngrams = to_collocations[trainset]\n",
        "    w2v_model = Word2Vec(trainset_ngrams, workers=4, size= 20, min_count = 10, window = 10, sample = 1e-3,negative=5,sg=1)\n",
        "\n",
        "    w2v_model.save(f\"models/model_{lang}_{cat}.model\")"
      ]
    },
    {
      "cell_type": "code",
      "execution_count": null,
      "metadata": {},
      "outputs": [],
      "source": []
    }
  ],
  "metadata": {
    "accelerator": "GPU",
    "colab": {
      "collapsed_sections": [],
      "name": "Santa_Cruz-word_embeddings.ipynb",
      "provenance": []
    },
    "kernelspec": {
      "display_name": "Python 3.6.15 64-bit",
      "language": "python",
      "name": "python3"
    },
    "language_info": {
      "codemirror_mode": {
        "name": "ipython",
        "version": 3
      },
      "file_extension": ".py",
      "mimetype": "text/x-python",
      "name": "python",
      "nbconvert_exporter": "python",
      "pygments_lexer": "ipython3",
      "version": "3.6.15"
    },
    "vscode": {
      "interpreter": {
        "hash": "949777d72b0d2535278d3dc13498b2535136f6dfe0678499012e853ee9abcab1"
      }
    }
  },
  "nbformat": 4,
  "nbformat_minor": 0
}
