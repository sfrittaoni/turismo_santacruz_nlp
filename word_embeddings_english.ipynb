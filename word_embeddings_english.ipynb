{
  "cells": [
    {
      "cell_type": "code",
      "execution_count": 1,
      "metadata": {
        "colab": {
          "base_uri": "https://localhost:8080/"
        },
        "id": "R2UljDWum97h",
        "outputId": "d7818081-5373-42a3-ad8c-af626b19311f"
      },
      "outputs": [
        {
          "name": "stderr",
          "output_type": "stream",
          "text": [
            "[nltk_data] Downloading package punkt to /home/vscode/nltk_data...\n",
            "[nltk_data]   Package punkt is already up-to-date!\n",
            "[nltk_data] Downloading package stopwords to /home/vscode/nltk_data...\n",
            "[nltk_data]   Package stopwords is already up-to-date!\n"
          ]
        }
      ],
      "source": [
        "%matplotlib inline \n",
        "%load_ext autoreload\n",
        "%autoreload 2\n",
        "from collections import defaultdict\n",
        "import re\n",
        "import os\n",
        "import matplotlib.pyplot as plt\n",
        "import numpy as np\n",
        "import pandas as pd   \n",
        "from gensim import corpora, models, similarities, matutils\n",
        "from gensim.models.word2vec import Word2Vec\n",
        "from gensim.models import KeyedVectors\n",
        "from gensim.matutils import cossim\n",
        "from gensim.models.phrases import Phrases, Phraser\n",
        "from nltk.corpus import stopwords\n",
        "from nltk import word_tokenize, sent_tokenize\n",
        "import nltk\n",
        "nltk.download('punkt')\n",
        "nltk.download('stopwords')\n",
        "import pickle\n",
        "import random\n",
        "import sys\n",
        "from tqdm import tqdm\n",
        "from sklearn import manifold\n"
      ]
    },
    {
      "cell_type": "markdown",
      "metadata": {
        "id": "63h_9SPfm97m"
      },
      "source": [
        "## Word2vec Embeddings\n"
      ]
    },
    {
      "cell_type": "code",
      "execution_count": 2,
      "metadata": {},
      "outputs": [],
      "source": [
        "lang = 'english'"
      ]
    },
    {
      "cell_type": "code",
      "execution_count": 3,
      "metadata": {
        "colab": {
          "base_uri": "https://localhost:8080/"
        },
        "id": "qRzcpwBMif_y",
        "outputId": "c35830f0-65f9-4d2e-b24e-f1a38cc9b9cd"
      },
      "outputs": [],
      "source": [
        "#cargo bases \n",
        "df_train = pd.read_csv(f'data/{lang}_data.csv')\n",
        "\n",
        "trainset = (df_train.text_norm.str.split(' ')).to_list()"
      ]
    },
    {
      "cell_type": "code",
      "execution_count": 4,
      "metadata": {
        "id": "StXZH1zWPzuq"
      },
      "outputs": [],
      "source": [
        "collocations = Phrases(sentences=trainset, min_count=10,threshold=0.5,scoring='npmi') # threshold: minimo score aceptado\n",
        "to_collocations = Phraser(collocations)\n",
        "df_collocations =pd.DataFrame([x for x in collocations.export_phrases(trainset)],columns=[\"bigram\",\"score\"])\n",
        "\n",
        "df_collocations.drop_duplicates().sort_values(by=\"score\",ascending=False).to_csv(f'data/bigramas/bigramas_{lang}.csv', index = False)\n"
      ]
    },
    {
      "cell_type": "code",
      "execution_count": 31,
      "metadata": {},
      "outputs": [
        {
          "data": {
            "text/html": [
              "<div>\n",
              "<style scoped>\n",
              "    .dataframe tbody tr th:only-of-type {\n",
              "        vertical-align: middle;\n",
              "    }\n",
              "\n",
              "    .dataframe tbody tr th {\n",
              "        vertical-align: top;\n",
              "    }\n",
              "\n",
              "    .dataframe thead th {\n",
              "        text-align: right;\n",
              "    }\n",
              "</style>\n",
              "<table border=\"1\" class=\"dataframe\">\n",
              "  <thead>\n",
              "    <tr style=\"text-align: right;\">\n",
              "      <th></th>\n",
              "      <th>bigram</th>\n",
              "      <th>score</th>\n",
              "    </tr>\n",
              "  </thead>\n",
              "  <tbody>\n",
              "    <tr>\n",
              "      <th>0</th>\n",
              "      <td>b'num minute'</td>\n",
              "      <td>0.658356</td>\n",
              "    </tr>\n",
              "    <tr>\n",
              "      <th>1</th>\n",
              "      <td>b'num pesos'</td>\n",
              "      <td>0.592245</td>\n",
              "    </tr>\n",
              "    <tr>\n",
              "      <th>2</th>\n",
              "      <td>b'worth visit'</td>\n",
              "      <td>0.510135</td>\n",
              "    </tr>\n",
              "    <tr>\n",
              "      <th>3</th>\n",
              "      <td>b'perito moreno'</td>\n",
              "      <td>0.940064</td>\n",
              "    </tr>\n",
              "    <tr>\n",
              "      <th>4</th>\n",
              "      <td>b'highly recommend'</td>\n",
              "      <td>0.779774</td>\n",
              "    </tr>\n",
              "    <tr>\n",
              "      <th>6</th>\n",
              "      <td>b'national park'</td>\n",
              "      <td>0.887762</td>\n",
              "    </tr>\n",
              "    <tr>\n",
              "      <th>7</th>\n",
              "      <td>b'english spanish'</td>\n",
              "      <td>0.538446</td>\n",
              "    </tr>\n",
              "    <tr>\n",
              "      <th>8</th>\n",
              "      <td>b'learn lot'</td>\n",
              "      <td>0.531377</td>\n",
              "    </tr>\n",
              "    <tr>\n",
              "      <th>10</th>\n",
              "      <td>b'spanish english'</td>\n",
              "      <td>0.681883</td>\n",
              "    </tr>\n",
              "    <tr>\n",
              "      <th>11</th>\n",
              "      <td>b'free shuttle'</td>\n",
              "      <td>0.781176</td>\n",
              "    </tr>\n",
              "    <tr>\n",
              "      <th>13</th>\n",
              "      <td>b'half hour'</td>\n",
              "      <td>0.549631</td>\n",
              "    </tr>\n",
              "    <tr>\n",
              "      <th>14</th>\n",
              "      <td>b'el calafate'</td>\n",
              "      <td>0.937114</td>\n",
              "    </tr>\n",
              "    <tr>\n",
              "      <th>17</th>\n",
              "      <td>b'english translation'</td>\n",
              "      <td>0.657455</td>\n",
              "    </tr>\n",
              "    <tr>\n",
              "      <th>20</th>\n",
              "      <td>b'climate change'</td>\n",
              "      <td>0.919262</td>\n",
              "    </tr>\n",
              "    <tr>\n",
              "      <th>25</th>\n",
              "      <td>b'shuttle bus'</td>\n",
              "      <td>0.643118</td>\n",
              "    </tr>\n",
              "  </tbody>\n",
              "</table>\n",
              "</div>"
            ],
            "text/plain": [
              "                    bigram     score\n",
              "0            b'num minute'  0.658356\n",
              "1             b'num pesos'  0.592245\n",
              "2           b'worth visit'  0.510135\n",
              "3         b'perito moreno'  0.940064\n",
              "4      b'highly recommend'  0.779774\n",
              "6         b'national park'  0.887762\n",
              "7       b'english spanish'  0.538446\n",
              "8             b'learn lot'  0.531377\n",
              "10      b'spanish english'  0.681883\n",
              "11         b'free shuttle'  0.781176\n",
              "13            b'half hour'  0.549631\n",
              "14          b'el calafate'  0.937114\n",
              "17  b'english translation'  0.657455\n",
              "20       b'climate change'  0.919262\n",
              "25          b'shuttle bus'  0.643118"
            ]
          },
          "execution_count": 31,
          "metadata": {},
          "output_type": "execute_result"
        }
      ],
      "source": [
        "df_collocations.drop_duplicates().head(15)"
      ]
    },
    {
      "cell_type": "code",
      "execution_count": 6,
      "metadata": {},
      "outputs": [],
      "source": [
        "trainset_ngrams = to_collocations[trainset]"
      ]
    },
    {
      "cell_type": "markdown",
      "metadata": {},
      "source": [
        "## Embeddings General"
      ]
    },
    {
      "cell_type": "code",
      "execution_count": 7,
      "metadata": {
        "id": "lvYifl8Rm977"
      },
      "outputs": [],
      "source": [
        "# \"window\" es el tamaño de la ventana. windows = 10, usa 10 palabras a la izquierda y 10 palabras a la derecha\n",
        "# \"n_dim\" es la dimension (i.e. el largo) de los vectores de word2vec\n",
        "# \"workers\" es el numero de cores que usa en paralelo. Para aprobechar eso es necesario tener instalado Cython)\n",
        "# \"sample\": word2vec filtra palabras que aparecen una fraccion mayor que \"sample\"\n",
        "# \"min_count\": Word2vec filtra palabras con menos apariciones que  \"min_count\"\n",
        "# \"sg\": para correr el Skipgram model (sg = 1), para correr el CBOW (sg = 0)\n",
        "# para mas detalle ver: https://radimrehurek.com/gensim/models/word2vec.html\n",
        "\n",
        "w2v_model = Word2Vec(trainset_ngrams, workers=4, size= 20, min_count = 10, window = 10, sample = 1e-3,negative=5,sg=1)\n"
      ]
    },
    {
      "cell_type": "code",
      "execution_count": 8,
      "metadata": {},
      "outputs": [],
      "source": [
        "w2v_model.save(f\"models/model_{lang}.model\")"
      ]
    },
    {
      "cell_type": "markdown",
      "metadata": {},
      "source": [
        "### Distancia entre palabras"
      ]
    },
    {
      "cell_type": "code",
      "execution_count": 21,
      "metadata": {},
      "outputs": [
        {
          "name": "stdout",
          "output_type": "stream",
          "text": [
            "glaciar-nice similarity: 0.64564383\n"
          ]
        }
      ],
      "source": [
        "palabra_a = 'glaciar'\n",
        "palabra_b = 'nice'\n",
        "print (f\"{palabra_a}-{palabra_b} similarity:\",w2v_model.wv.n_similarity([palabra_a], [palabra_b]))"
      ]
    },
    {
      "cell_type": "code",
      "execution_count": 23,
      "metadata": {},
      "outputs": [
        {
          "name": "stdout",
          "output_type": "stream",
          "text": [
            "glaciar-bad similarity: 0.356714\n"
          ]
        }
      ],
      "source": [
        "palabra_a = 'glaciar'\n",
        "palabra_b = 'bad'\n",
        "print (f\"{palabra_a}-{palabra_b} similarity:\",w2v_model.wv.n_similarity([palabra_a], [palabra_b]))"
      ]
    },
    {
      "cell_type": "code",
      "execution_count": 15,
      "metadata": {},
      "outputs": [
        {
          "name": "stdout",
          "output_type": "stream",
          "text": [
            "chalten-hike similarity: 0.58585024\n"
          ]
        }
      ],
      "source": [
        "palabra_a = 'chalten'\n",
        "palabra_b = 'hike'\n",
        "print (f\"{palabra_a}-{palabra_b} similarity:\",w2v_model.wv.n_similarity([palabra_a], [palabra_b]))"
      ]
    },
    {
      "cell_type": "code",
      "execution_count": 16,
      "metadata": {},
      "outputs": [
        {
          "name": "stdout",
          "output_type": "stream",
          "text": [
            "calafate-hike similarity: 0.4022614\n"
          ]
        }
      ],
      "source": [
        "palabra_a = 'calafate'\n",
        "palabra_b = 'hike'\n",
        "print (f\"{palabra_a}-{palabra_b} similarity:\",w2v_model.wv.n_similarity([palabra_a], [palabra_b]))"
      ]
    },
    {
      "cell_type": "markdown",
      "metadata": {},
      "source": [
        "### Palabras mas cercanas"
      ]
    },
    {
      "cell_type": "code",
      "execution_count": 20,
      "metadata": {
        "colab": {
          "base_uri": "https://localhost:8080/"
        },
        "id": "csrUhYDJm98H",
        "outputId": "8ba75dbc-e178-4e70-c40e-db531ac6536f"
      },
      "outputs": [
        {
          "data": {
            "text/plain": [
              "[('discovery', 0.8547458648681641),\n",
              " ('estancia_cristina', 0.8288278579711914),\n",
              " ('perito_moreno', 0.8165957927703857),\n",
              " ('canadon_de', 0.7915723323822021),\n",
              " ('los_fosiles', 0.7912231683731079),\n",
              " ('upsula', 0.7910602688789368),\n",
              " ('glacier', 0.7873191237449646),\n",
              " ('upsala', 0.779120683670044),\n",
              " ('rio_de', 0.770664393901825),\n",
              " ('perrito_moreno', 0.7645975947380066),\n",
              " ('url', 0.7631571888923645),\n",
              " ('diferent', 0.7629247903823853),\n",
              " ('voyage', 0.7571156024932861),\n",
              " ('glaciare', 0.754446804523468),\n",
              " ('wheel_drive', 0.7534202337265015),\n",
              " ('uppsala', 0.7478199005126953),\n",
              " ('galcier', 0.747206449508667),\n",
              " ('navigation', 0.7450952529907227),\n",
              " ('famous', 0.7429937124252319),\n",
              " ('cristina', 0.7428270578384399),\n",
              " ('historic', 0.742082953453064),\n",
              " ('afar', 0.7420076131820679),\n",
              " ('splendid', 0.7405179738998413),\n",
              " ('glaciar_sur', 0.7382924556732178),\n",
              " ('marvelous', 0.7357462644577026)]"
            ]
          },
          "execution_count": 20,
          "metadata": {},
          "output_type": "execute_result"
        }
      ],
      "source": [
        "w2v_model.wv.most_similar(positive=[\"glaciar\"], negative=[], topn=25)"
      ]
    },
    {
      "cell_type": "code",
      "execution_count": 24,
      "metadata": {
        "colab": {
          "base_uri": "https://localhost:8080/"
        },
        "id": "BDQ_cmNUgELc",
        "outputId": "a730b9a5-037a-49c0-865a-89c2c0b7d8c4"
      },
      "outputs": [
        {
          "data": {
            "text/plain": [
              "[('knowledgeable', 0.9443427324295044),\n",
              " ('funny', 0.9374910593032837),\n",
              " ('diego', 0.9368913769721985),\n",
              " ('instructor', 0.9309796094894409),\n",
              " ('knowledgable', 0.9260320663452148),\n",
              " ('personable', 0.9244157075881958),\n",
              " ('enthusiastic', 0.9219516515731812),\n",
              " ('walter', 0.9215483665466309),\n",
              " ('feel_safe', 0.9203648567199707),\n",
              " ('competent', 0.910566508769989),\n",
              " ('experienced', 0.9019758701324463),\n",
              " ('fluent_english', 0.9003053903579712),\n",
              " ('assistant', 0.8968928456306458),\n",
              " ('eduardo', 0.8955037593841553),\n",
              " ('job', 0.8953291177749634),\n",
              " ('guidance', 0.8945882320404053),\n",
              " ('informed', 0.8939124345779419),\n",
              " ('gabriel', 0.8934283256530762),\n",
              " ('well_organised', 0.8918226361274719),\n",
              " ('expert', 0.8897641897201538),\n",
              " ('professional', 0.8875956535339355),\n",
              " ('english_speaker', 0.8833553791046143),\n",
              " ('top_notch', 0.8831037878990173),\n",
              " ('helpfull', 0.8824286460876465),\n",
              " ('ruben', 0.88099205493927)]"
            ]
          },
          "execution_count": 24,
          "metadata": {},
          "output_type": "execute_result"
        }
      ],
      "source": [
        "w2v_model.wv.most_similar(positive=[\"guide\"], negative=[], topn=25)"
      ]
    },
    {
      "cell_type": "code",
      "execution_count": 25,
      "metadata": {
        "colab": {
          "base_uri": "https://localhost:8080/"
        },
        "id": "EwOtte4Rg3vR",
        "outputId": "a66912c7-5b19-4ea0-fa06-7df94cd2e34b"
      },
      "outputs": [
        {
          "data": {
            "text/plain": [
              "[('catamaran', 0.9015376567840576),\n",
              " ('board', 0.8921128511428833),\n",
              " ('safari_nautico', 0.8848613500595093),\n",
              " ('sail', 0.8623785376548767),\n",
              " ('deck', 0.8601497411727905),\n",
              " ('close', 0.858512282371521),\n",
              " ('cruise', 0.8563765287399292),\n",
              " ('sailing', 0.8539423942565918),\n",
              " ('north_side', 0.8533992767333984),\n",
              " ('port', 0.8521869778633118),\n",
              " ('ship', 0.8458064794540405),\n",
              " ('boat_ride', 0.8445068597793579),\n",
              " ('optional', 0.8425775766372681),\n",
              " ('upper_deck', 0.8401633501052856),\n",
              " ('get', 0.8279699683189392),\n",
              " ('dock', 0.8246922492980957),\n",
              " ('coach', 0.82231205701828),\n",
              " ('captain', 0.8204749822616577),\n",
              " ('galcier', 0.8170027136802673),\n",
              " ('window_seat', 0.8166041970252991),\n",
              " ('navigation', 0.8164306879043579),\n",
              " ('glaci', 0.815544605255127),\n",
              " ('ferry', 0.8150684237480164),\n",
              " ('maria_turquesa', 0.8149117231369019),\n",
              " ('south_face', 0.814399003982544)]"
            ]
          },
          "execution_count": 25,
          "metadata": {},
          "output_type": "execute_result"
        }
      ],
      "source": [
        "w2v_model.wv.most_similar(positive=['boat'], negative=[], topn=25)"
      ]
    },
    {
      "cell_type": "markdown",
      "metadata": {},
      "source": [
        "### Visualizacion distancia entre grupos de palabras"
      ]
    },
    {
      "cell_type": "code",
      "execution_count": 26,
      "metadata": {
        "id": "nTKkJhmvm98Q"
      },
      "outputs": [],
      "source": [
        "adjtetivos = [\"nice\",\"great\",\"excellent\", 'good']\n",
        "adjtetivos_2 = [\"expensive\",\"cheap\",\"clean\"]\n",
        "glaciar = [\"hike\",\"glaci\",\"boat\",\"trip\"]\n",
        "ciudad = [\"city\",\"bar\",\"museum\",\"guide\"]\n",
        "\n",
        "palabras = adjtetivos + adjtetivos_2 + glaciar + ciudad \n",
        "colores = [\"black\"]*len(adjtetivos)+[\"blue\"]*len(adjtetivos_2)+[\"green\"]*len(glaciar)+[\"red\"]*len(ciudad) "
      ]
    },
    {
      "cell_type": "code",
      "execution_count": 27,
      "metadata": {
        "colab": {
          "base_uri": "https://localhost:8080/"
        },
        "id": "43lS8JmWm98W",
        "outputId": "78f97003-012f-4bda-b9f8-dfd8f58a2fec"
      },
      "outputs": [],
      "source": [
        "# Armo una matriz de distancias\n",
        "distancias=np.zeros((len(palabras),len(palabras))) #matriz cuadrada\n",
        "for i,ti in enumerate(palabras):\n",
        "    for j,tj in enumerate(palabras):\n",
        "        distancias[i,j] = abs(1-w2v_model.wv.similarity(ti,tj))\n",
        "\n",
        "#distancias"
      ]
    },
    {
      "cell_type": "code",
      "execution_count": 28,
      "metadata": {
        "id": "RbQSOA0Ym98Y"
      },
      "outputs": [],
      "source": [
        "# Reduccion de la dimensionalidad y visualizacion \n",
        "from sklearn.manifold import MDS\n",
        "from sklearn.manifold import TSNE \n",
        "def visualize_embeddings(distancias,palabras,colores,perplexity):\n",
        "    plt.figure(figsize=(20,10))\n",
        "    # Reduccion de la dimensionalidad y visualizacion \n",
        "    mds = MDS(n_components=2, max_iter=3000, eps=1e-9, random_state=123,\n",
        "                       dissimilarity=\"precomputed\", n_jobs=1)\n",
        "    Y = mds.fit(distancias).embedding_\n",
        "    plt.subplot(1,2,1)\n",
        "    plt.scatter(Y[:, 0], Y[:, 1],color=\"black\",s=3)\n",
        "    for label, x, y, color in zip(palabras, Y[:, 0], Y[:, 1],colores):\n",
        "        plt.annotate(label, xy=(x, y), xytext=(0, 0),color=color, textcoords='offset points',size=13)\n",
        "    plt.title(\"MDS\")\n",
        "    # Reduccion de la dimensionalidad y visualizacion \n",
        "    tsne = TSNE(n_components=2,metric=\"precomputed\",learning_rate=1000, random_state=123,perplexity=perplexity)\n",
        "    np.set_printoptions(suppress=True)\n",
        "    plt.subplot(1,2,2)\n",
        "    Y = tsne.fit_transform(distancias)\n",
        "    plt.scatter(Y[:, 0], Y[:, 1],color=\"black\",s=3)\n",
        "    for label, x, y, color in zip(palabras, Y[:, 0], Y[:, 1],colores):\n",
        "        plt.annotate(label, xy=(x, y), xytext=(0, 0),color=color, textcoords='offset points',size=13)\n",
        "    plt.title(\"TSNE\")"
      ]
    },
    {
      "cell_type": "code",
      "execution_count": 29,
      "metadata": {
        "colab": {
          "base_uri": "https://localhost:8080/",
          "height": 696
        },
        "id": "Eq_Cgblxm98b",
        "outputId": "e9d0620b-4da3-422a-b439-66a6d0992cb0"
      },
      "outputs": [
        {
          "name": "stderr",
          "output_type": "stream",
          "text": [
            "/home/vscode/.local/lib/python3.6/site-packages/sklearn/manifold/_t_sne.py:699: FutureWarning: 'square_distances' has been introduced in 0.24 to help phase out legacy squaring behavior. The 'legacy' setting will be removed in 1.1 (renaming of 0.26), and the default setting will be changed to True. In 1.3, 'square_distances' will be removed altogether, and distances will be squared by default. Set 'square_distances'=True to silence this warning.\n",
            "  FutureWarning\n"
          ]
        },
        {
          "data": {
            "image/png": "[encoded data removed]",
            "text/plain": [
              "<Figure size 1440x720 with 2 Axes>"
            ]
          },
          "metadata": {
            "needs_background": "light"
          },
          "output_type": "display_data"
        }
      ],
      "source": [
        "visualize_embeddings(distancias,palabras,colores,perplexity=4)"
      ]
    },
    {
      "cell_type": "markdown",
      "metadata": {},
      "source": [
        "## Embeddings por categoria"
      ]
    },
    {
      "cell_type": "code",
      "execution_count": 30,
      "metadata": {},
      "outputs": [],
      "source": [
        "for cat in list(set(df_train.categoria_souldata)):\n",
        "\n",
        "    trainset = (df_train.loc[df_train.categoria_souldata == cat].text_norm.str.split(' ')).to_list()\n",
        "    collocations = Phrases(sentences=trainset, min_count=10,threshold=0.5,scoring='npmi') # threshold: minimo score aceptado\n",
        "    to_collocations = Phraser(collocations)\n",
        "    df_collocations =pd.DataFrame([x for x in collocations.export_phrases(trainset)],columns=[\"bigram\",\"score\"])\n",
        "\n",
        "    df_collocations.drop_duplicates().sort_values(by=\"score\",ascending=False).to_csv(f'data/bigramas/bigramas_{lang}_{cat}.csv', index = False)\n",
        "    \n",
        "    trainset_ngrams = to_collocations[trainset]\n",
        "    w2v_model = Word2Vec(trainset_ngrams, workers=4, size= 20, min_count = 10, window = 10, sample = 1e-3,negative=5,sg=1)\n",
        "\n",
        "    w2v_model.save(f\"models/model_{lang}_{cat}.model\")"
      ]
    },
    {
      "cell_type": "code",
      "execution_count": null,
      "metadata": {},
      "outputs": [],
      "source": []
    }
  ],
  "metadata": {
    "accelerator": "GPU",
    "colab": {
      "collapsed_sections": [],
      "name": "Santa_Cruz-word_embeddings.ipynb",
      "provenance": []
    },
    "kernelspec": {
      "display_name": "Python 3.6.15 64-bit",
      "language": "python",
      "name": "python3"
    },
    "language_info": {
      "codemirror_mode": {
        "name": "ipython",
        "version": 3
      },
      "file_extension": ".py",
      "mimetype": "text/x-python",
      "name": "python",
      "nbconvert_exporter": "python",
      "pygments_lexer": "ipython3",
      "version": "3.6.15"
    },
    "vscode": {
      "interpreter": {
        "hash": "949777d72b0d2535278d3dc13498b2535136f6dfe0678499012e853ee9abcab1"
      }
    }
  },
  "nbformat": 4,
  "nbformat_minor": 0
}
