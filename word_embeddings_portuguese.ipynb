{
  "cells": [
    {
      "cell_type": "code",
      "execution_count": 1,
      "metadata": {
        "colab": {
          "base_uri": "https://localhost:8080/"
        },
        "id": "R2UljDWum97h",
        "outputId": "d7818081-5373-42a3-ad8c-af626b19311f"
      },
      "outputs": [
        {
          "name": "stderr",
          "output_type": "stream",
          "text": [
            "[nltk_data] Downloading package punkt to /home/vscode/nltk_data...\n",
            "[nltk_data]   Package punkt is already up-to-date!\n",
            "[nltk_data] Downloading package stopwords to /home/vscode/nltk_data...\n",
            "[nltk_data]   Package stopwords is already up-to-date!\n"
          ]
        }
      ],
      "source": [
        "%matplotlib inline \n",
        "%load_ext autoreload\n",
        "%autoreload 2\n",
        "from collections import defaultdict\n",
        "import re\n",
        "import os\n",
        "import matplotlib.pyplot as plt\n",
        "import numpy as np\n",
        "import pandas as pd   \n",
        "from gensim import corpora, models, similarities, matutils\n",
        "from gensim.models.word2vec import Word2Vec\n",
        "from gensim.models import KeyedVectors\n",
        "from gensim.matutils import cossim\n",
        "from gensim.models.phrases import Phrases, Phraser\n",
        "from nltk.corpus import stopwords\n",
        "from nltk import word_tokenize, sent_tokenize\n",
        "import nltk\n",
        "nltk.download('punkt')\n",
        "nltk.download('stopwords')\n",
        "import pickle\n",
        "import random\n",
        "import sys\n",
        "from tqdm import tqdm\n",
        "from sklearn import manifold\n"
      ]
    },
    {
      "cell_type": "markdown",
      "metadata": {
        "id": "63h_9SPfm97m"
      },
      "source": [
        "## Word2vec Embeddings\n"
      ]
    },
    {
      "cell_type": "code",
      "execution_count": 2,
      "metadata": {},
      "outputs": [],
      "source": [
        "lang = 'portuguese'"
      ]
    },
    {
      "cell_type": "code",
      "execution_count": 3,
      "metadata": {
        "colab": {
          "base_uri": "https://localhost:8080/"
        },
        "id": "qRzcpwBMif_y",
        "outputId": "c35830f0-65f9-4d2e-b24e-f1a38cc9b9cd"
      },
      "outputs": [],
      "source": [
        "#cargo bases \n",
        "df_train = pd.read_csv(f'data/{lang}_data.csv')\n",
        "\n",
        "trainset = (df_train.text_norm.str.split(' ')).to_list()"
      ]
    },
    {
      "cell_type": "code",
      "execution_count": 4,
      "metadata": {
        "id": "StXZH1zWPzuq"
      },
      "outputs": [],
      "source": [
        "collocations = Phrases(sentences=trainset, min_count=10,threshold=0.5,scoring='npmi') # threshold: minimo score aceptado\n",
        "to_collocations = Phraser(collocations)\n",
        "df_collocations =pd.DataFrame([x for x in collocations.export_phrases(trainset)],columns=[\"bigram\",\"score\"])\n",
        "\n",
        "df_collocations.drop_duplicates().sort_values(by=\"score\",ascending=False).to_csv(f'data/bigramas/bigramas_{lang}.csv', index = False)\n"
      ]
    },
    {
      "cell_type": "code",
      "execution_count": 5,
      "metadata": {},
      "outputs": [
        {
          "data": {
            "text/html": [
              "<div>\n",
              "<style scoped>\n",
              "    .dataframe tbody tr th:only-of-type {\n",
              "        vertical-align: middle;\n",
              "    }\n",
              "\n",
              "    .dataframe tbody tr th {\n",
              "        vertical-align: top;\n",
              "    }\n",
              "\n",
              "    .dataframe thead th {\n",
              "        text-align: right;\n",
              "    }\n",
              "</style>\n",
              "<table border=\"1\" class=\"dataframe\">\n",
              "  <thead>\n",
              "    <tr style=\"text-align: right;\">\n",
              "      <th></th>\n",
              "      <th>bigram</th>\n",
              "      <th>score</th>\n",
              "    </tr>\n",
              "  </thead>\n",
              "  <tbody>\n",
              "    <tr>\n",
              "      <th>0</th>\n",
              "      <td>b'rio gallego'</td>\n",
              "      <td>0.651516</td>\n",
              "    </tr>\n",
              "    <tr>\n",
              "      <th>1</th>\n",
              "      <td>b'hora meia'</td>\n",
              "      <td>0.561650</td>\n",
              "    </tr>\n",
              "    <tr>\n",
              "      <th>2</th>\n",
              "      <td>b'perito moreno'</td>\n",
              "      <td>0.986473</td>\n",
              "    </tr>\n",
              "    <tr>\n",
              "      <th>3</th>\n",
              "      <td>b'valer pena'</td>\n",
              "      <td>0.897180</td>\n",
              "    </tr>\n",
              "    <tr>\n",
              "      <th>4</th>\n",
              "      <td>b'estancia cristino'</td>\n",
              "      <td>0.840968</td>\n",
              "    </tr>\n",
              "    <tr>\n",
              "      <th>6</th>\n",
              "      <td>b'lago argentino'</td>\n",
              "      <td>0.770856</td>\n",
              "    </tr>\n",
              "    <tr>\n",
              "      <th>7</th>\n",
              "      <td>b'levar lanche'</td>\n",
              "      <td>0.599760</td>\n",
              "    </tr>\n",
              "    <tr>\n",
              "      <th>8</th>\n",
              "      <td>b'bloco gelo'</td>\n",
              "      <td>0.622509</td>\n",
              "    </tr>\n",
              "    <tr>\n",
              "      <th>11</th>\n",
              "      <td>b'rio hielo'</td>\n",
              "      <td>0.677232</td>\n",
              "    </tr>\n",
              "    <tr>\n",
              "      <th>13</th>\n",
              "      <td>b'parque nacional'</td>\n",
              "      <td>0.768243</td>\n",
              "    </tr>\n",
              "    <tr>\n",
              "      <th>14</th>\n",
              "      <td>b'el calafate'</td>\n",
              "      <td>0.893951</td>\n",
              "    </tr>\n",
              "    <tr>\n",
              "      <th>16</th>\n",
              "      <td>b'tirar foto'</td>\n",
              "      <td>0.669500</td>\n",
              "    </tr>\n",
              "    <tr>\n",
              "      <th>18</th>\n",
              "      <td>b'espetaculo natureza'</td>\n",
              "      <td>0.553888</td>\n",
              "    </tr>\n",
              "    <tr>\n",
              "      <th>19</th>\n",
              "      <td>b'mini trekking'</td>\n",
              "      <td>0.807039</td>\n",
              "    </tr>\n",
              "    <tr>\n",
              "      <th>20</th>\n",
              "      <td>b'pagar taxa'</td>\n",
              "      <td>0.527443</td>\n",
              "    </tr>\n",
              "  </tbody>\n",
              "</table>\n",
              "</div>"
            ],
            "text/plain": [
              "                    bigram     score\n",
              "0           b'rio gallego'  0.651516\n",
              "1             b'hora meia'  0.561650\n",
              "2         b'perito moreno'  0.986473\n",
              "3            b'valer pena'  0.897180\n",
              "4     b'estancia cristino'  0.840968\n",
              "6        b'lago argentino'  0.770856\n",
              "7          b'levar lanche'  0.599760\n",
              "8            b'bloco gelo'  0.622509\n",
              "11            b'rio hielo'  0.677232\n",
              "13      b'parque nacional'  0.768243\n",
              "14          b'el calafate'  0.893951\n",
              "16           b'tirar foto'  0.669500\n",
              "18  b'espetaculo natureza'  0.553888\n",
              "19        b'mini trekking'  0.807039\n",
              "20           b'pagar taxa'  0.527443"
            ]
          },
          "execution_count": 5,
          "metadata": {},
          "output_type": "execute_result"
        }
      ],
      "source": [
        "df_collocations.drop_duplicates().head(15)"
      ]
    },
    {
      "cell_type": "code",
      "execution_count": 6,
      "metadata": {},
      "outputs": [],
      "source": [
        "trainset_ngrams = to_collocations[trainset]"
      ]
    },
    {
      "cell_type": "markdown",
      "metadata": {},
      "source": [
        "## Embeddings General"
      ]
    },
    {
      "cell_type": "code",
      "execution_count": 7,
      "metadata": {
        "id": "lvYifl8Rm977"
      },
      "outputs": [],
      "source": [
        "# \"window\" es el tamaño de la ventana. windows = 10, usa 10 palabras a la izquierda y 10 palabras a la derecha\n",
        "# \"n_dim\" es la dimension (i.e. el largo) de los vectores de word2vec\n",
        "# \"workers\" es el numero de cores que usa en paralelo. Para aprobechar eso es necesario tener instalado Cython)\n",
        "# \"sample\": word2vec filtra palabras que aparecen una fraccion mayor que \"sample\"\n",
        "# \"min_count\": Word2vec filtra palabras con menos apariciones que  \"min_count\"\n",
        "# \"sg\": para correr el Skipgram model (sg = 1), para correr el CBOW (sg = 0)\n",
        "# para mas detalle ver: https://radimrehurek.com/gensim/models/word2vec.html\n",
        "\n",
        "w2v_model = Word2Vec(trainset_ngrams, workers=4, size= 20, min_count = 10, window = 10, sample = 1e-3,negative=5,sg=1)\n"
      ]
    },
    {
      "cell_type": "code",
      "execution_count": 8,
      "metadata": {},
      "outputs": [],
      "source": [
        "w2v_model.save(f\"models/model_{lang}.model\")"
      ]
    },
    {
      "cell_type": "markdown",
      "metadata": {},
      "source": [
        "### Distancia entre palabras"
      ]
    },
    {
      "cell_type": "code",
      "execution_count": 9,
      "metadata": {},
      "outputs": [
        {
          "name": "stdout",
          "output_type": "stream",
          "text": [
            "barco-bom similarity: 0.5972292\n"
          ]
        }
      ],
      "source": [
        "palabra_a = 'barco'\n",
        "palabra_b = 'bom'\n",
        "print (f\"{palabra_a}-{palabra_b} similarity:\",w2v_model.wv.n_similarity([palabra_a], [palabra_b]))"
      ]
    },
    {
      "cell_type": "markdown",
      "metadata": {},
      "source": [
        "### Palabras mas cercanas"
      ]
    },
    {
      "cell_type": "code",
      "execution_count": 10,
      "metadata": {
        "colab": {
          "base_uri": "https://localhost:8080/"
        },
        "id": "csrUhYDJm98H",
        "outputId": "8ba75dbc-e178-4e70-c40e-db531ac6536f"
      },
      "outputs": [
        {
          "data": {
            "text/plain": [
              "[('glacial', 0.9017165899276733),\n",
              " ('geleira', 0.8961523771286011),\n",
              " ('navegar', 0.8895564079284668),\n",
              " ('perito', 0.8862797021865845),\n",
              " ('spegazini', 0.8757434487342834),\n",
              " ('upsalar_spegazzini', 0.8591139316558838),\n",
              " ('navegacao', 0.8550480604171753),\n",
              " ('perito_moreno', 0.849107027053833),\n",
              " ('canal', 0.8478042483329773),\n",
              " ('iceberg', 0.8464165925979614),\n",
              " ('uppsala', 0.8427501916885376),\n",
              " ('upsalo', 0.8408942818641663),\n",
              " ('spegazzini', 0.8408842086791992),\n",
              " ('atrave', 0.8401709198951721),\n",
              " ('upsalar', 0.8370072841644287),\n",
              " ('upsalla', 0.8336359262466431),\n",
              " ('face', 0.8335937857627869),\n",
              " ('barco', 0.8277672529220581),\n",
              " ('navega', 0.8258945941925049),\n",
              " ('deslocamento', 0.8154070377349854),\n",
              " ('tempano', 0.8140438199043274),\n",
              " ('aproximacao', 0.8113919496536255),\n",
              " ('onelli', 0.8068482875823975),\n",
              " ('upsala_spegazzini', 0.8060671091079712),\n",
              " ('upsalo_spegazzini', 0.8048068284988403)]"
            ]
          },
          "execution_count": 10,
          "metadata": {},
          "output_type": "execute_result"
        }
      ],
      "source": [
        "w2v_model.wv.most_similar(positive=[\"glaciar\"], negative=[], topn=25)"
      ]
    },
    {
      "cell_type": "code",
      "execution_count": 11,
      "metadata": {
        "colab": {
          "base_uri": "https://localhost:8080/"
        },
        "id": "EwOtte4Rg3vR",
        "outputId": "a66912c7-5b19-4ea0-fa06-7df94cd2e34b"
      },
      "outputs": [
        {
          "data": {
            "text/plain": [
              "[('buscou', 0.9320610165596008),\n",
              " ('buscar', 0.9259470701217651),\n",
              " ('out', 0.9171119928359985),\n",
              " ('saida', 0.9140504598617554),\n",
              " ('hostel', 0.9125410914421082),\n",
              " ('pousada', 0.8969638347625732),\n",
              " ('buscar_hotel', 0.8955209255218506),\n",
              " ('pontualmente', 0.891757607460022),\n",
              " ('hoteis', 0.8833101987838745),\n",
              " ('confirmar', 0.8752905130386353),\n",
              " ('embarque', 0.8740520477294922),\n",
              " ('apanhar_hotel', 0.8727309107780457),\n",
              " ('cedinho', 0.8713687062263489),\n",
              " ('horario_combinar', 0.8701239824295044),\n",
              " ('apanhar', 0.8682962656021118),\n",
              " ('rodoviaria', 0.8602210283279419),\n",
              " ('translar', 0.8590571284294128),\n",
              " ('terminal', 0.8570679426193237),\n",
              " ('busca', 0.8502300977706909),\n",
              " ('guiche', 0.8489677906036377),\n",
              " ('comprar_ticket', 0.848430871963501),\n",
              " ('transfer', 0.8481352925300598),\n",
              " ('aeroporto', 0.8475863337516785),\n",
              " ('hotei', 0.8475804328918457),\n",
              " ('embarcar', 0.8463844060897827)]"
            ]
          },
          "execution_count": 11,
          "metadata": {},
          "output_type": "execute_result"
        }
      ],
      "source": [
        "w2v_model.wv.most_similar(positive=['hotel'], negative=[], topn=25)"
      ]
    },
    {
      "cell_type": "code",
      "execution_count": null,
      "metadata": {},
      "outputs": [],
      "source": []
    },
    {
      "cell_type": "markdown",
      "metadata": {},
      "source": [
        "### Visualizacion distancia entre grupos de palabras"
      ]
    },
    {
      "cell_type": "code",
      "execution_count": 12,
      "metadata": {
        "id": "nTKkJhmvm98Q"
      },
      "outputs": [],
      "source": [
        "adjtetivos = [\"bom\",\"excelente\",\"otimo\",]\n",
        "adjtetivos_2 = [\"carissimo\",\"horrivel\",\"real\"]\n",
        "glaciar = [\"glaciar\",\"trekking\",\"perito_moreno\",]\n",
        "ciudad = [\"calafate\",\"bar\",\"centrinho\",\"hotel\"]\n",
        "\n",
        "palabras = adjtetivos + adjtetivos_2 + glaciar + ciudad \n",
        "colores = [\"black\"]*len(adjtetivos)+[\"blue\"]*len(adjtetivos_2)+[\"green\"]*len(glaciar)+[\"red\"]*len(ciudad) "
      ]
    },
    {
      "cell_type": "code",
      "execution_count": 13,
      "metadata": {
        "colab": {
          "base_uri": "https://localhost:8080/"
        },
        "id": "43lS8JmWm98W",
        "outputId": "78f97003-012f-4bda-b9f8-dfd8f58a2fec"
      },
      "outputs": [],
      "source": [
        "# Armo una matriz de distancias\n",
        "distancias=np.zeros((len(palabras),len(palabras))) #matriz cuadrada\n",
        "for i,ti in enumerate(palabras):\n",
        "    for j,tj in enumerate(palabras):\n",
        "        distancias[i,j] = abs(1-w2v_model.wv.similarity(ti,tj))\n",
        "\n",
        "#distancias"
      ]
    },
    {
      "cell_type": "code",
      "execution_count": 14,
      "metadata": {
        "id": "RbQSOA0Ym98Y"
      },
      "outputs": [],
      "source": [
        "# Reduccion de la dimensionalidad y visualizacion \n",
        "from sklearn.manifold import MDS\n",
        "from sklearn.manifold import TSNE \n",
        "def visualize_embeddings(distancias,palabras,colores,perplexity):\n",
        "    plt.figure(figsize=(20,10))\n",
        "    # Reduccion de la dimensionalidad y visualizacion \n",
        "    mds = MDS(n_components=2, max_iter=3000, eps=1e-9, random_state=123,\n",
        "                       dissimilarity=\"precomputed\", n_jobs=1)\n",
        "    Y = mds.fit(distancias).embedding_\n",
        "    plt.subplot(1,2,1)\n",
        "    plt.scatter(Y[:, 0], Y[:, 1],color=\"black\",s=3)\n",
        "    for label, x, y, color in zip(palabras, Y[:, 0], Y[:, 1],colores):\n",
        "        plt.annotate(label, xy=(x, y), xytext=(0, 0),color=color, textcoords='offset points',size=13)\n",
        "    plt.title(\"MDS\")\n",
        "    # Reduccion de la dimensionalidad y visualizacion \n",
        "    tsne = TSNE(n_components=2,metric=\"precomputed\",learning_rate=1000, random_state=123,perplexity=perplexity)\n",
        "    np.set_printoptions(suppress=True)\n",
        "    plt.subplot(1,2,2)\n",
        "    Y = tsne.fit_transform(distancias)\n",
        "    plt.scatter(Y[:, 0], Y[:, 1],color=\"black\",s=3)\n",
        "    for label, x, y, color in zip(palabras, Y[:, 0], Y[:, 1],colores):\n",
        "        plt.annotate(label, xy=(x, y), xytext=(0, 0),color=color, textcoords='offset points',size=13)\n",
        "    plt.title(\"TSNE\")"
      ]
    },
    {
      "cell_type": "code",
      "execution_count": 15,
      "metadata": {
        "colab": {
          "base_uri": "https://localhost:8080/",
          "height": 696
        },
        "id": "Eq_Cgblxm98b",
        "outputId": "e9d0620b-4da3-422a-b439-66a6d0992cb0"
      },
      "outputs": [
        {
          "name": "stderr",
          "output_type": "stream",
          "text": [
            "/home/vscode/.local/lib/python3.6/site-packages/sklearn/manifold/_t_sne.py:699: FutureWarning: 'square_distances' has been introduced in 0.24 to help phase out legacy squaring behavior. The 'legacy' setting will be removed in 1.1 (renaming of 0.26), and the default setting will be changed to True. In 1.3, 'square_distances' will be removed altogether, and distances will be squared by default. Set 'square_distances'=True to silence this warning.\n",
            "  FutureWarning\n"
          ]
        },
        {
          "data": {
            "image/png": "[encoded data removed]",
            "text/plain": [
              "<Figure size 1440x720 with 2 Axes>"
            ]
          },
          "metadata": {
            "needs_background": "light"
          },
          "output_type": "display_data"
        }
      ],
      "source": [
        "visualize_embeddings(distancias,palabras,colores,perplexity=4)"
      ]
    },
    {
      "cell_type": "markdown",
      "metadata": {},
      "source": [
        "## Embeddings por categoria"
      ]
    },
    {
      "cell_type": "code",
      "execution_count": 16,
      "metadata": {},
      "outputs": [],
      "source": [
        "for cat in list(set(df_train.categoria_souldata)):\n",
        "\n",
        "    trainset = (df_train.loc[df_train.categoria_souldata == cat].text_norm.str.split(' ')).to_list()\n",
        "    collocations = Phrases(sentences=trainset, min_count=10,threshold=0.5,scoring='npmi') # threshold: minimo score aceptado\n",
        "    to_collocations = Phraser(collocations)\n",
        "    df_collocations =pd.DataFrame([x for x in collocations.export_phrases(trainset)],columns=[\"bigram\",\"score\"])\n",
        "\n",
        "    df_collocations.drop_duplicates().sort_values(by=\"score\",ascending=False).to_csv(f'data/bigramas/bigramas_{lang}_{cat}.csv', index = False)\n",
        "    \n",
        "    trainset_ngrams = to_collocations[trainset]\n",
        "    w2v_model = Word2Vec(trainset_ngrams, workers=4, size= 20, min_count = 10, window = 10, sample = 1e-3,negative=5,sg=1)\n",
        "\n",
        "    w2v_model.save(f\"models/model_{lang}_{cat}.model\")"
      ]
    },
    {
      "cell_type": "code",
      "execution_count": null,
      "metadata": {},
      "outputs": [],
      "source": []
    }
  ],
  "metadata": {
    "accelerator": "GPU",
    "colab": {
      "collapsed_sections": [],
      "name": "Santa_Cruz-word_embeddings.ipynb",
      "provenance": []
    },
    "kernelspec": {
      "display_name": "Python 3.6.15 64-bit",
      "language": "python",
      "name": "python3"
    },
    "language_info": {
      "codemirror_mode": {
        "name": "ipython",
        "version": 3
      },
      "file_extension": ".py",
      "mimetype": "text/x-python",
      "name": "python",
      "nbconvert_exporter": "python",
      "pygments_lexer": "ipython3",
      "version": "3.6.15"
    },
    "vscode": {
      "interpreter": {
        "hash": "949777d72b0d2535278d3dc13498b2535136f6dfe0678499012e853ee9abcab1"
      }
    }
  },
  "nbformat": 4,
  "nbformat_minor": 0
}
